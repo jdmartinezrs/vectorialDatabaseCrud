{
 "cells": [
  {
   "cell_type": "markdown",
   "metadata": {},
   "source": [
    "\n",
    "### 1. Representación Numérica de Datos  \n",
    "Este fragmento de código utiliza vectores como representación numérica para manejar datos estructurados en consultas y análisis.\n",
    "\n",
    "### 2. Bases de Datos Vectoriales  \n",
    "El código implementa **ChromaDB**, una base de datos vectorial diseñada para almacenar y manejar datos de manera eficiente en formato vectorial. Esto es útil para búsquedas semánticas y clasificaciones rápidas.\n",
    "\n",
    "### 3. Persistencia de Datos  \n",
    "La configuración del directorio de persistencia (`persist_directory`) garantiza que los datos vectoriales almacenados en la base de datos sean persistentes, lo que facilita su reutilización.\n",
    "\n",
    "### 4. Creación de Colecciones  \n",
    "El ejemplo crea una colección específica (`partidos_futbol`) para organizar y consultar datos vectoriales relacionados con partidos de fútbol.\n"
   ]
  },
  {
   "cell_type": "code",
   "execution_count": 5,
   "metadata": {},
   "outputs": [],
   "source": [
    "import chromadb\n",
    "from chromadb.config import Settings\n",
    "\n",
    "persist_directory = r\"C:/Users/Usuario/vectorialDatabaseCrud/chromadb\"\n",
    "\n",
    "# Updated client configuration\n",
    "chroma_client = chromadb.PersistentClient(\n",
    "    path=persist_directory\n",
    ")\n",
    "\n",
    "# Create collection for football matches\n",
    "collection = chroma_client.create_collection(name=\"partidos_futbol\")\n"
   ]
  },
  {
   "cell_type": "markdown",
   "metadata": {},
   "source": [
    "\n",
    "1. **Embeddings como Representación Numérica**  \n",
    "   - Se utiliza el modelo `SentenceTransformer` para transformar textos en representaciones vectoriales numéricas (*embeddings*). Esto permite capturar relaciones semánticas entre las frases.\n",
    "\n",
    "2. **Procesamiento de Lenguaje Natural (PLN)**  \n",
    "   - El modelo de *embeddings* convierte las descripciones de partidos en vectores, esenciales para cálculos de similitud y análisis semántico.\n",
    "\n",
    "3. **Almacenamiento Vectorial**  \n",
    "   - Los datos de los partidos (incluyendo texto, metadatos y sus *embeddings*) se insertan en una colección de una base de datos vectorial para búsquedas eficientes.\n",
    "\n",
    "4. **Relaciones entre Documentos**  \n",
    "   - Los *embeddings* generados permiten medir similitudes entre los textos, facilitando consultas como \"¿Qué partidos son más similares en contexto?\"\n",
    "\n",
    "5. **Metadatos y Organización Eficiente**  \n",
    "   - Además del texto, se almacenan metadatos (como equipos, fecha y estadio) que enriquecen las búsquedas y análisis."
   ]
  },
  {
   "cell_type": "code",
   "execution_count": null,
   "metadata": {},
   "outputs": [],
   "source": [
    "from sentence_transformers import SentenceTransformer\n",
    "\n",
    "# Modelo de embeddings\n",
    "modelo_embeddings = SentenceTransformer('all-MiniLM-L6-v2')\n",
    "\n",
    "# Datos de partidos de fútbol\n",
    "partidos = [\n",
    "    {\"id\": \"1\", \"texto\": \"Partido entre Barcelona y Real Madrid en el Camp Nou el 25 de diciembre de 2025.\", \"metadata\": {\"equipo_local\": \"Barcelona\", \"equipo_visitante\": \"Real Madrid\", \"fecha\": \"2025-12-25\", \"estadio\": \"Camp Nou\"}},\n",
    "    {\"id\": \"2\", \"texto\": \"Partido entre Manchester United y Liverpool en Old Trafford el 10 de enero de 2025.\", \"metadata\": {\"equipo_local\": \"Manchester United\", \"equipo_visitante\": \"Liverpool\", \"fecha\": \"2025-01-10\", \"estadio\": \"Old Trafford\"}},\n",
    "    {\"id\": \"3\", \"texto\": \"Partido entre Juventus y Inter de Milan en el Allianz Stadium el 5 de marzo de 2025.\", \"metadata\": {\"equipo_local\": \"Juventus\", \"equipo_visitante\": \"Inter de Milan\", \"fecha\": \"2025-03-05\", \"estadio\": \"Allianz Stadium\"}},\n",
    "]\n",
    "\n",
    "# Generar embeddings para los textos\n",
    "textos = [partido[\"texto\"] for partido in partidos]\n",
    "ids = [partido[\"id\"] for partido in partidos]\n",
    "metadatas = [partido[\"metadata\"] for partido in partidos]\n",
    "embeddings = modelo_embeddings.encode(textos).tolist()\n",
    "\n",
    "# Insertar partidos con embeddings en la colección\n",
    "collection.add(ids=ids, documents=textos, metadatas=metadatas, embeddings=embeddings)\n",
    "print(\"Partidos con embeddings insertados.\")\n"
   ]
  },
  {
   "cell_type": "markdown",
   "metadata": {},
   "source": [
    "comparación de embeddings, específicamente en esta parte:\n",
    "# Generar embedding para la consulta\n",
    "consulta = \"Partido entre Barcelona y Real Madrid en el Camp Nou\"\n",
    "embedding_consulta = modelo_embeddings.encode([consulta]).tolist()\n",
    "\n",
    "# Buscar los documentos más similares\n",
    "resultados_similares = collection.query(query_embeddings=embedding_consulta, n_results=2)\n",
    "\n",
    "Esta sección realiza una búsqueda por similitud semántica donde:\n",
    "\n",
    "Primero se genera un embedding para la consulta usando el modelo 'all-MiniLM-L6-v2'\n",
    "Luego, ChromaDB compara internamente este embedding con los embeddings de todos los documentos en la colección\n",
    "El método query() devuelve los 2 documentos más similares (n_results=2)\n",
    "\n",
    "La comparación se realiza utilizando la similitud coseno entre los vectores de embeddings, aunque esto sucede internamente en ChromaDB. La similitud coseno mide el ángulo entre dos vectores, donde:\n",
    "\n",
    "-Un valor más cercano a 1 indica mayor similitud\n",
    "-Un valor más cercano a 0 indica menor similitud"
   ]
  },
  {
   "cell_type": "code",
   "execution_count": null,
   "metadata": {},
   "outputs": [],
   "source": [
    "# Generar embedding para la consulta\n",
    "consulta = \"Partido entre Barcelona y Real Madrid en el Camp Nou\"\n",
    "embedding_consulta = modelo_embeddings.encode([consulta]).tolist()\n",
    "\n",
    "# Buscar los documentos más similares\n",
    "resultados_similares = collection.query(query_embeddings=embedding_consulta, n_results=2)\n",
    "print(\"Partidos similares:\", resultados_similares)\n"
   ]
  },
  {
   "cell_type": "markdown",
   "metadata": {},
   "source": []
  },
  {
   "cell_type": "code",
   "execution_count": null,
   "metadata": {},
   "outputs": [],
   "source": [
    "# Actualizar un partido y su embedding\n",
    "nuevo_texto = \"Partido entre Barcelona y Real Madrid en el Camp Nou el 25 de diciembre de 2025, con 70,000 espectadores.\"\n",
    "nuevo_embedding = modelo_embeddings.encode([nuevo_texto]).tolist()\n",
    "collection.delete(ids=[\"1\"])  # Eliminar partido antiguo\n",
    "collection.add(ids=[\"1\"], documents=[nuevo_texto], metadatas=[{\"equipo_local\": \"Barcelona\", \"equipo_visitante\": \"Real Madrid\", \"fecha\": \"2025-12-25\", \"estadio\": \"Camp Nou\"}], embeddings=nuevo_embedding)\n",
    "print(\"Partido actualizado con nuevo embedding.\")\n"
   ]
  },
  {
   "cell_type": "code",
   "execution_count": null,
   "metadata": {},
   "outputs": [],
   "source": [
    "# Eliminar un partido\n",
    "collection.delete(ids=[\"2\"])\n",
    "print(\"Partido eliminado.\")\n"
   ]
  },
  {
   "cell_type": "code",
   "execution_count": null,
   "metadata": {},
   "outputs": [],
   "source": [
    "client.persist()"
   ]
  },
  {
   "cell_type": "code",
   "execution_count": null,
   "metadata": {},
   "outputs": [],
   "source": [
    "from IPython.display import clear_output\n",
    "clear_output(wait=True)"
   ]
  },
  {
   "cell_type": "code",
   "execution_count": null,
   "metadata": {},
   "outputs": [],
   "source": [
    "import chromadb\n",
    "\n",
    "# Inspeccionar las instancias activas\n",
    "print(chromadb.api.ClientCreator._identifier_to_system)\n"
   ]
  },
  {
   "cell_type": "code",
   "execution_count": null,
   "metadata": {},
   "outputs": [],
   "source": [
    "from IPython.display import display, Javascript\n",
    "display(Javascript(\"Jupyter.notebook.kernel.restart()\"))\n"
   ]
  },
  {
   "cell_type": "code",
   "execution_count": null,
   "metadata": {},
   "outputs": [],
   "source": [
    "import os\n",
    "\n",
    "# Verifica si la carpeta chromadb existe\n",
    "path = \"./chromadb\"\n",
    "if os.path.exists(path):\n",
    "    print(f\"La carpeta existe en: {os.path.abspath(path)}\")\n",
    "else:\n",
    "    print(\"La carpeta 'chromadb' no fue creada.\")\n"
   ]
  },
  {
   "cell_type": "code",
   "execution_count": null,
   "metadata": {},
   "outputs": [],
   "source": []
  }
 ],
 "metadata": {
  "kernelspec": {
   "display_name": "entorno",
   "language": "python",
   "name": "python3"
  },
  "language_info": {
   "codemirror_mode": {
    "name": "ipython",
    "version": 3
   },
   "file_extension": ".py",
   "mimetype": "text/x-python",
   "name": "python",
   "nbconvert_exporter": "python",
   "pygments_lexer": "ipython3",
   "version": "3.10.11"
  }
 },
 "nbformat": 4,
 "nbformat_minor": 2
}
