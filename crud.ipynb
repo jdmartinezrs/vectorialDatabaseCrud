{
 "cells": [
  {
   "cell_type": "code",
   "execution_count": 3,
   "metadata": {},
   "outputs": [],
   "source": [
    "import chromadb\n",
    "from chromadb.config import Settings\n",
    "\n",
    "# Configuración del cliente\n",
    "client = chromadb.Client(Settings(persist_directory=\"./chromadb\"))\n",
    "\n",
    "# Crear una colección para los partidos de fútbol\n",
    "collection = client.create_collection(name=\"partidos_futbol\")\n"
   ]
  },
  {
   "cell_type": "code",
   "execution_count": 4,
   "metadata": {},
   "outputs": [
    {
     "name": "stderr",
     "output_type": "stream",
     "text": [
      "c:\\Users\\Usuario\\vectorialDatabaseCrud\\entorno\\lib\\site-packages\\huggingface_hub\\file_download.py:140: UserWarning: `huggingface_hub` cache-system uses symlinks by default to efficiently store duplicated files but your machine does not support them in C:\\Users\\Usuario\\.cache\\huggingface\\hub\\models--sentence-transformers--all-MiniLM-L6-v2. Caching files will still work but in a degraded version that might require more space on your disk. This warning can be disabled by setting the `HF_HUB_DISABLE_SYMLINKS_WARNING` environment variable. For more details, see https://huggingface.co/docs/huggingface_hub/how-to-cache#limitations.\n",
      "To support symlinks on Windows, you either need to activate Developer Mode or to run Python as an administrator. In order to activate developer mode, see this article: https://docs.microsoft.com/en-us/windows/apps/get-started/enable-your-device-for-development\n",
      "  warnings.warn(message)\n"
     ]
    },
    {
     "name": "stdout",
     "output_type": "stream",
     "text": [
      "Partidos con embeddings insertados.\n"
     ]
    }
   ],
   "source": [
    "from sentence_transformers import SentenceTransformer\n",
    "\n",
    "# Modelo de embeddings\n",
    "modelo_embeddings = SentenceTransformer('all-MiniLM-L6-v2')\n",
    "\n",
    "# Datos de partidos de fútbol\n",
    "partidos = [\n",
    "    {\"id\": \"1\", \"texto\": \"Partido entre Barcelona y Real Madrid en el Camp Nou el 25 de diciembre de 2025.\", \"metadata\": {\"equipo_local\": \"Barcelona\", \"equipo_visitante\": \"Real Madrid\", \"fecha\": \"2025-12-25\", \"estadio\": \"Camp Nou\"}},\n",
    "    {\"id\": \"2\", \"texto\": \"Partido entre Manchester United y Liverpool en Old Trafford el 10 de enero de 2025.\", \"metadata\": {\"equipo_local\": \"Manchester United\", \"equipo_visitante\": \"Liverpool\", \"fecha\": \"2025-01-10\", \"estadio\": \"Old Trafford\"}},\n",
    "    {\"id\": \"3\", \"texto\": \"Partido entre Juventus y Inter de Milan en el Allianz Stadium el 5 de marzo de 2025.\", \"metadata\": {\"equipo_local\": \"Juventus\", \"equipo_visitante\": \"Inter de Milan\", \"fecha\": \"2025-03-05\", \"estadio\": \"Allianz Stadium\"}},\n",
    "]\n",
    "\n",
    "# Generar embeddings para los textos\n",
    "textos = [partido[\"texto\"] for partido in partidos]\n",
    "ids = [partido[\"id\"] for partido in partidos]\n",
    "metadatas = [partido[\"metadata\"] for partido in partidos]\n",
    "embeddings = modelo_embeddings.encode(textos).tolist()\n",
    "\n",
    "# Insertar partidos con embeddings en la colección\n",
    "collection.add(ids=ids, documents=textos, metadatas=metadatas, embeddings=embeddings)\n",
    "print(\"Partidos con embeddings insertados.\")\n"
   ]
  },
  {
   "cell_type": "code",
   "execution_count": 7,
   "metadata": {},
   "outputs": [
    {
     "name": "stdout",
     "output_type": "stream",
     "text": [
      "Partidos similares: {'ids': [['1', '2']], 'embeddings': None, 'documents': [['Partido entre Barcelona y Real Madrid en el Camp Nou el 25 de diciembre de 2025, con 70,000 espectadores.', 'Partido entre Manchester United y Liverpool en Old Trafford el 10 de enero de 2025.']], 'uris': None, 'data': None, 'metadatas': [[{'equipo_local': 'Barcelona', 'equipo_visitante': 'Real Madrid', 'estadio': 'Camp Nou', 'fecha': '2025-12-25'}, {'equipo_local': 'Manchester United', 'equipo_visitante': 'Liverpool', 'estadio': 'Old Trafford', 'fecha': '2025-01-10'}]], 'distances': [[0.5082851648330688, 0.8440568447113037]], 'included': [<IncludeEnum.distances: 'distances'>, <IncludeEnum.documents: 'documents'>, <IncludeEnum.metadatas: 'metadatas'>]}\n"
     ]
    }
   ],
   "source": [
    "# Generar embedding para la consulta\n",
    "consulta = \"Partido entre Barcelona y Real Madrid en el Camp Nou\"\n",
    "embedding_consulta = modelo_embeddings.encode([consulta]).tolist()\n",
    "\n",
    "# Buscar los documentos más similares\n",
    "resultados_similares = collection.query(query_embeddings=embedding_consulta, n_results=2)\n",
    "print(\"Partidos similares:\", resultados_similares)\n"
   ]
  },
  {
   "cell_type": "code",
   "execution_count": 6,
   "metadata": {},
   "outputs": [
    {
     "name": "stdout",
     "output_type": "stream",
     "text": [
      "Partido actualizado con nuevo embedding.\n"
     ]
    }
   ],
   "source": [
    "# Actualizar un partido y su embedding\n",
    "nuevo_texto = \"Partido entre Barcelona y Real Madrid en el Camp Nou el 25 de diciembre de 2025, con 70,000 espectadores.\"\n",
    "nuevo_embedding = modelo_embeddings.encode([nuevo_texto]).tolist()\n",
    "collection.delete(ids=[\"1\"])  # Eliminar partido antiguo\n",
    "collection.add(ids=[\"1\"], documents=[nuevo_texto], metadatas=[{\"equipo_local\": \"Barcelona\", \"equipo_visitante\": \"Real Madrid\", \"fecha\": \"2025-12-25\", \"estadio\": \"Camp Nou\"}], embeddings=nuevo_embedding)\n",
    "print(\"Partido actualizado con nuevo embedding.\")\n"
   ]
  },
  {
   "cell_type": "code",
   "execution_count": 8,
   "metadata": {},
   "outputs": [
    {
     "name": "stdout",
     "output_type": "stream",
     "text": [
      "Partido eliminado.\n"
     ]
    }
   ],
   "source": [
    "# Eliminar un partido\n",
    "collection.delete(ids=[\"2\"])\n",
    "print(\"Partido eliminado.\")\n"
   ]
  },
  {
   "cell_type": "code",
   "execution_count": null,
   "metadata": {},
   "outputs": [],
   "source": [
    "client.persist()"
   ]
  },
  {
   "cell_type": "code",
   "execution_count": 10,
   "metadata": {},
   "outputs": [],
   "source": [
    "from IPython.display import clear_output\n",
    "clear_output(wait=True)"
   ]
  }
 ],
 "metadata": {
  "kernelspec": {
   "display_name": "entorno",
   "language": "python",
   "name": "python3"
  },
  "language_info": {
   "codemirror_mode": {
    "name": "ipython",
    "version": 3
   },
   "file_extension": ".py",
   "mimetype": "text/x-python",
   "name": "python",
   "nbconvert_exporter": "python",
   "pygments_lexer": "ipython3",
   "version": "3.10.11"
  }
 },
 "nbformat": 4,
 "nbformat_minor": 2
}
