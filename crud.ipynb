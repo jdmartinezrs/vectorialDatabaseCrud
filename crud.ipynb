{
 "cells": [
  {
   "cell_type": "markdown",
   "metadata": {},
   "source": [
    "\n",
    "### 1. Representación Numérica de Datos  \n",
    "Este fragmento de código utiliza vectores como representación numérica para manejar datos estructurados en consultas y análisis.\n",
    "\n",
    "### 2. Bases de Datos Vectoriales  \n",
    "El código implementa **ChromaDB**, una base de datos vectorial diseñada para almacenar y manejar datos de manera eficiente en formato vectorial. Esto es útil para búsquedas semánticas y clasificaciones rápidas.\n",
    "\n",
    "### 3. Persistencia de Datos  \n",
    "La configuración del directorio de persistencia (`persist_directory`) garantiza que los datos vectoriales almacenados en la base de datos sean persistentes, lo que facilita su reutilización.\n",
    "\n",
    "### 4. Creación de Colecciones  \n",
    "El ejemplo crea una colección específica (`partidos_futbol`) para organizar y consultar datos vectoriales relacionados con partidos de fútbol.\n"
   ]
  },
  {
   "cell_type": "code",
   "execution_count": 5,
   "metadata": {},
   "outputs": [],
   "source": [
    "import chromadb\n",
    "from chromadb.config import Settings\n",
    "\n",
    "persist_directory = r\"C:/Users/Usuario/vectorialDatabaseCrud/chromadb\"\n",
    "\n",
    "# Updated client configuration\n",
    "chroma_client = chromadb.PersistentClient(\n",
    "    path=persist_directory\n",
    ")\n",
    "\n",
    "# Create collection for football matches\n",
    "collection = chroma_client.create_collection(name=\"partidos_futbol\")"
   ]
  },
  {
   "cell_type": "markdown",
   "metadata": {},
   "source": [
    "\n",
    "1. **Embeddings como Representación Numérica**  \n",
    "   - Se utiliza el modelo `SentenceTransformer` para transformar textos en representaciones vectoriales numéricas (*embeddings*). Esto permite capturar relaciones semánticas entre las frases.\n",
    "\n",
    "2. **Procesamiento de Lenguaje Natural (PLN)**  \n",
    "   - El modelo de *embeddings* convierte las descripciones de partidos en vectores, esenciales para cálculos de similitud y análisis semántico.\n",
    "\n",
    "3. **Almacenamiento Vectorial**  \n",
    "   - Los datos de los partidos (incluyendo texto, metadatos y sus *embeddings*) se insertan en una colección de una base de datos vectorial para búsquedas eficientes.\n",
    "\n",
    "4. **Relaciones entre Documentos**  \n",
    "   - Los *embeddings* generados permiten medir similitudes entre los textos, facilitando consultas como \"¿Qué partidos son más similares en contexto?\"\n",
    "\n",
    "5. **Metadatos y Organización Eficiente**  \n",
    "   - Además del texto, se almacenan metadatos (como equipos, fecha y estadio) que enriquecen las búsquedas y análisis."
   ]
  },
  {
   "cell_type": "markdown",
   "metadata": {},
   "source": [
    "collection.add():\n",
    "\n",
    "Este es un método que se utiliza para agregar (insertar) datos en una colección. La colección puede referirse a una base de datos o a un índice que almacena datos.\n",
    "Parámetros de add():\n",
    "\n",
    "ids=ids: Aquí se está pasando un conjunto de identificadores (ids) que serán asignados a los documentos que se insertan. Es probable que ids sea una lista o un array de identificadores únicos para cada documento.\n",
    "documents=textos: Este parámetro contiene los documentos que se van a insertar. En este caso, textos parece ser una lista o un conjunto de textos (probablemente de partidos, si el contexto es un sistema de fútbol).\n",
    "metadatas=metadatas: Aquí se incluyen los metadatos asociados con los documentos. Los metadatos podrían incluir información adicional sobre cada partido, como la fecha, el equipo local, el equipo visitante, entre otros.\n",
    "embeddings=embeddings: Este parámetro contiene los embeddings, que son representaciones vectoriales de los textos. Los embeddings son utilizados en sistemas de búsqueda o modelos de inteligencia artificial para representar texto de manera que sea comprensible para los algoritmos, lo que permite comparar la similitud entre los documentos.\n",
    "print(\"Partidos con embeddings insertados.\"):\n",
    "\n",
    "Después de la operación de inserción, se imprime un mensaje en la consola indicando que los \"partidos con embeddings\" se han insertado correctamente en la colección."
   ]
  },
  {
   "cell_type": "code",
   "execution_count": null,
   "metadata": {},
   "outputs": [],
   "source": [
    "from sentence_transformers import SentenceTransformer\n",
    "\n",
    "# Modelo de embeddings\n",
    "modelo_embeddings = SentenceTransformer('all-MiniLM-L6-v2')\n",
    "\n",
    "# Datos de partidos de fútbol\n",
    "partidos = [\n",
    "    {\"id\": \"1\", \"texto\": \"Partido entre Barcelona y Real Madrid en el Camp Nou el 25 de diciembre de 2025.\", \"metadata\": {\"equipo_local\": \"Barcelona\", \"equipo_visitante\": \"Real Madrid\", \"fecha\": \"2025-12-25\", \"estadio\": \"Camp Nou\"}},\n",
    "    {\"id\": \"2\", \"texto\": \"Partido entre Manchester United y Liverpool en Old Trafford el 10 de enero de 2025.\", \"metadata\": {\"equipo_local\": \"Manchester United\", \"equipo_visitante\": \"Liverpool\", \"fecha\": \"2025-01-10\", \"estadio\": \"Old Trafford\"}},\n",
    "    {\"id\": \"3\", \"texto\": \"Partido entre Juventus y Inter de Milan en el Allianz Stadium el 5 de marzo de 2025.\", \"metadata\": {\"equipo_local\": \"Juventus\", \"equipo_visitante\": \"Inter de Milan\", \"fecha\": \"2025-03-05\", \"estadio\": \"Allianz Stadium\"}},\n",
    "    {\"id\": \"4\", \"texto\": \"Partido entre Bayern Munich y Borussia Dortmund en el Allianz Arena el 15 de abril de 2025.\", \"metadata\": {\"equipo_local\": \"Bayern Munich\", \"equipo_visitante\": \"Borussia Dortmund\", \"fecha\": \"2025-04-15\", \"estadio\": \"Allianz Arena\"}},\n",
    "    {\"id\": \"5\", \"texto\": \"Partido entre PSG y Olympique de Marsella en el Parc des Princes el 30 de mayo de 2025.\", \"metadata\": {\"equipo_local\": \"PSG\", \"equipo_visitante\": \"Olympique de Marsella\", \"fecha\": \"2025-05-30\", \"estadio\": \"Parc des Princes\"}},\n",
    "    {\"id\": \"6\", \"texto\": \"Partido entre Boca Juniors y River Plate en La Bombonera el 20 de junio de 2025.\", \"metadata\": {\"equipo_local\": \"Boca Juniors\", \"equipo_visitante\": \"River Plate\", \"fecha\": \"2025-06-20\", \"estadio\": \"La Bombonera\"}},\n",
    "    {\"id\": \"7\", \"texto\": \"Partido entre Flamengo y Palmeiras en el Maracaná el 12 de julio de 2025.\", \"metadata\": {\"equipo_local\": \"Flamengo\", \"equipo_visitante\": \"Palmeiras\", \"fecha\": \"2025-07-12\", \"estadio\": \"Maracaná\"}},\n",
    "    {\"id\": \"8\", \"texto\": \"Partido entre Atlético de Madrid y Sevilla en el Wanda Metropolitano el 18 de agosto de 2025.\", \"metadata\": {\"equipo_local\": \"Atlético de Madrid\", \"equipo_visitante\": \"Sevilla\", \"fecha\": \"2025-08-18\", \"estadio\": \"Wanda Metropolitano\"}},\n",
    "    {\"id\": \"9\", \"texto\": \"Partido entre Chelsea y Arsenal en Stamford Bridge el 28 de septiembre de 2025.\", \"metadata\": {\"equipo_local\": \"Chelsea\", \"equipo_visitante\": \"Arsenal\", \"fecha\": \"2025-09-28\", \"estadio\": \"Stamford Bridge\"}},\n",
    "    {\"id\": \"10\", \"texto\": \"Partido entre AC Milan y Napoli en San Siro el 10 de octubre de 2025.\", \"metadata\": {\"equipo_local\": \"AC Milan\", \"equipo_visitante\": \"Napoli\", \"fecha\": \"2025-10-10\", \"estadio\": \"San Siro\"}},\n",
    "]\n",
    "\n",
    "\n",
    "# Generar embeddings para los textos\n",
    "textos = [partido[\"texto\"] for partido in partidos]\n",
    "ids = [partido[\"id\"] for partido in partidos]\n",
    "metadatas = [partido[\"metadata\"] for partido in partidos]\n",
    "embeddings = modelo_embeddings.encode(textos).tolist()\n",
    "\n",
    "# Insertar partidos con embeddings en la colección\n",
    "collection.add(ids=ids, documents=textos, metadatas=metadatas, embeddings=embeddings)\n",
    "print(\"Partidos con embeddings insertados.\")\n"
   ]
  },
  {
   "cell_type": "markdown",
   "metadata": {},
   "source": [
    "comparación de embeddings, específicamente en esta parte:\n",
    "# Generar embedding para la consulta\n",
    "consulta = \"Partido entre Barcelona y Real Madrid en el Camp Nou\"\n",
    "embedding_consulta = modelo_embeddings.encode([consulta]).tolist()\n",
    "\n",
    "# Buscar los documentos más similares\n",
    "resultados_similares = collection.query(query_embeddings=embedding_consulta, n_results=2)\n",
    "\n",
    "Esta sección realiza una búsqueda por similitud semántica donde:\n",
    "\n",
    "Primero se genera un embedding para la consulta usando el modelo 'all-MiniLM-L6-v2'\n",
    "Luego, ChromaDB compara internamente este embedding con los embeddings de todos los documentos en la colección\n",
    "El método query() devuelve los 2 documentos más similares (n_results=2)\n",
    "\n",
    "La comparación se realiza utilizando la similitud coseno entre los vectores de embeddings, aunque esto sucede internamente en ChromaDB. La similitud coseno mide el ángulo entre dos vectores, donde:\n",
    "\n",
    "-Un valor más cercano a 1 indica mayor similitud\n",
    "-Un valor más cercano a 0 indica menor similitud"
   ]
  },
  {
   "cell_type": "code",
   "execution_count": 29,
   "metadata": {},
   "outputs": [
    {
     "name": "stdout",
     "output_type": "stream",
     "text": [
      "Partidos similares: {'ids': [['2', '3']], 'embeddings': None, 'documents': [['Partido entre Manchester United y Liverpool en Old Trafford el 10 de enero de 2025.', 'Partido entre Juventus y Inter de Milan en el Allianz Stadium el 5 de marzo de 2025.']], 'uris': None, 'data': None, 'metadatas': [[{'equipo_local': 'Bucaramanga', 'equipo_visitante': 'Liverpool', 'estadio': 'Old Trafford', 'estado_partido': 'Finalizado', 'fecha': '2025-01-10', 'resultado': '2-1'}, {'equipo_local': 'Juventus', 'equipo_visitante': 'Inter de Milan', 'estadio': 'Allianz Stadium', 'fecha': '2025-03-05'}]], 'distances': [[0.844056806444902, 0.8645657386614436]], 'included': [<IncludeEnum.distances: 'distances'>, <IncludeEnum.documents: 'documents'>, <IncludeEnum.metadatas: 'metadatas'>]}\n"
     ]
    }
   ],
   "source": [
    "# Generar embedding para la consulta\n",
    "consulta = \"Partido entre Barcelona y Real Madrid en el Camp Nou\"\n",
    "embedding_consulta = modelo_embeddings.encode([consulta]).tolist()\n",
    "\n",
    "# Buscar los documentos más similares\n",
    "resultados_similares = collection.query(query_embeddings=embedding_consulta, n_results=2)\n",
    "print(\"Partidos similares:\", resultados_similares)\n"
   ]
  },
  {
   "cell_type": "markdown",
   "metadata": {},
   "source": [
    "### Búsqueda y Filtro por Texto Exacto\n",
    "\n",
    "Este código realiza una búsqueda semántica en la colección utilizando una consulta de texto y aplica un filtro para obtener coincidencias exactas.\n",
    "\n",
    "1. **Consulta Inicial**:\n",
    "   - Se busca `\"Camp Nou\"` en la colección, obteniendo documentos, metadatos y distancias.\n",
    "   - El número de resultados se limita a `n_results=2`.\n",
    "\n",
    "2. **Filtro de Coincidencias Exactas**:\n",
    "   - Se filtran resultados cuyo texto contiene `\"Camp Nou\"` o cuyo metadato `estadio` coincide exactamente con `\"Camp Nou\"`.\n",
    "\n",
    "3. **Impresión de Resultados**:\n",
    "   - Los documentos filtrados se muestran con su texto, metadatos y distancia."
   ]
  },
  {
   "cell_type": "code",
   "execution_count": 38,
   "metadata": {},
   "outputs": [
    {
     "name": "stdout",
     "output_type": "stream",
     "text": [
      "=== BÚSQUEDA FILTRADA POR TEXTO EXACTO ===\n",
      "\n",
      "Documento 1:\n",
      "Texto: Partido entre Barcelona y Real Madrid en el Camp Nou el 25 de diciembre de 2025, con 70,000 espectadores.\n",
      "Metadata: {'equipo_local': 'Barcelona', 'equipo_visitante': 'Real Madrid', 'estadio': 'Camp Nou', 'fecha': '2025-12-25'}\n",
      "Distancia: 1.5588\n"
     ]
    }
   ],
   "source": [
    "query_texto = \"Camp Nou\"\n",
    "resultados = collection.query(\n",
    "    query_texts=[query_texto],\n",
    "    n_results=2,\n",
    "    include=[\"documents\", \"metadatas\", \"distances\"]\n",
    ")\n",
    "# Filtro de coincidencia exacta\n",
    "resultados_filtrados = [\n",
    "    {\n",
    "        \"texto\": doc,\n",
    "        \"metadata\": meta,\n",
    "        \"distancia\": dist\n",
    "    }\n",
    "    for doc, meta, dist in zip(\n",
    "        resultados[\"documents\"][0],\n",
    "        resultados[\"metadatas\"][0],\n",
    "        resultados[\"distances\"][0]\n",
    "    )\n",
    "    if \"Camp Nou\" in doc or meta.get(\"estadio\") == \"Camp Nou\"\n",
    "]\n",
    "\n",
    "\n",
    "for i, res in enumerate(resultados_filtrados, start=1):\n",
    "    print(f\"\\nDocumento {i}:\")\n",
    "    print(f\"Texto: {res['texto']}\")\n",
    "    print(f\"Metadata: {res['metadata']}\")\n",
    "    print(f\"Distancia: {res['distancia']:.4f}\")\n"
   ]
  },
  {
   "cell_type": "markdown",
   "metadata": {},
   "source": [
    "### Búsqueda Filtrada por Metadatos\n",
    "\n",
    "Este código realiza una búsqueda semántica con un filtro adicional aplicado sobre los metadatos.\n",
    "\n",
    "- **Consulta**: Busca documentos relacionados con `\"Barcelona\"`.\n",
    "- **Filtro**: Incluye solo resultados donde `equipo_local` es `\"Barcelona\"`.\n",
    "- **Resultados**: Imprime los documentos, metadatos, y distancias relevantes."
   ]
  },
  {
   "cell_type": "code",
   "execution_count": 32,
   "metadata": {},
   "outputs": [
    {
     "name": "stdout",
     "output_type": "stream",
     "text": [
      "\n",
      "=== BÚSQUEDA FILTRADA ===\n",
      "Resultados con filtro 'equipo_local = Barcelona':\n"
     ]
    }
   ],
   "source": [
    "query_filtrado = collection.query(\n",
    "    query_texts=[\"Barcelona\"],\n",
    "    n_results=2,\n",
    "    where={\"equipo_local\": \"Barcelona\"},  \n",
    "    include=[\"documents\", \"metadatas\", \"distances\"]\n",
    ")\n",
    "\n",
    "print(\"Resultados con filtro 'equipo_local = Barcelona':\")\n",
    "for i in range(len(query_filtrado['documents'][0])):\n",
    "    print(f\"\\nDocumento {i+1}:\")\n",
    "    print(f\"Texto: {query_filtrado['documents'][0][i]}\")\n",
    "    print(f\"Metadata: {query_filtrado['metadatas'][0][i]}\")\n",
    "    print(f\"Distancia: {query_filtrado['distances'][0][i]:.4f}\")"
   ]
  },
  {
   "cell_type": "markdown",
   "metadata": {},
   "source": [
    "### Actualización de Partido y su Embedding\n",
    "\n",
    "Este código actualiza la información de un partido en la colección, incluyendo su texto, metadatos, y embedding.\n",
    "\n",
    "1. **Generación del Nuevo Embedding**:\n",
    "   - Se crea un nuevo embedding para el texto actualizado del partido.\n",
    "\n",
    "2. **Eliminación del Partido Antiguo**:\n",
    "   - Se elimina el partido existente utilizando su ID (`\"1\"`).\n",
    "\n",
    "3. **Adición del Partido Actualizado**:\n",
    "   - Se agrega el partido actualizado con:\n",
    "     - ID: `\"1\"`\n",
    "     - Texto: Descripción del partido.\n",
    "     - Metadatos: Incluyen detalles como equipos, fecha y estadio.\n",
    "     - Embedding: Generado previamente.\n",
    "\n",
    "4. **Confirmación**:\n",
    "   - Imprime un mensaje indicando que el partido ha sido actualizado."
   ]
  },
  {
   "cell_type": "code",
   "execution_count": 33,
   "metadata": {},
   "outputs": [
    {
     "name": "stderr",
     "output_type": "stream",
     "text": [
      "Delete of nonexisting embedding ID: 1\n",
      "Delete of nonexisting embedding ID: 1\n"
     ]
    },
    {
     "name": "stdout",
     "output_type": "stream",
     "text": [
      "Partido actualizado con nuevo embedding.\n"
     ]
    }
   ],
   "source": [
    "# Actualizar un partido y su embedding\n",
    "nuevo_texto = \"Partido entre Barcelona y Real Madrid en el Camp Nou el 25 de diciembre de 2025, con 70,000 espectadores.\"\n",
    "nuevo_embedding = modelo_embeddings.encode([nuevo_texto]).tolist()\n",
    "collection.delete(ids=[\"1\"])  # Eliminar partido antiguo\n",
    "collection.add(ids=[\"1\"], documents=[nuevo_texto], metadatas=[{\"equipo_local\": \"Barcelona\", \"equipo_visitante\": \"Real Madrid\", \"fecha\": \"2025-12-25\", \"estadio\": \"Camp Nou\"}], embeddings=nuevo_embedding)\n",
    "print(\"Partido actualizado con nuevo embedding.\")"
   ]
  },
  {
   "cell_type": "markdown",
   "metadata": {},
   "source": [
    "Búsqueda por Equipo Local\n",
    "\n",
    "Este código realiza una búsqueda en la colección filtrando por un equipo local específico, en este caso, \"Barcelona\".\n",
    "\n",
    "1. **Consulta Vacía**:\n",
    "   - Se realiza una búsqueda sin texto de consulta (`query_texts=[\"\"]`), lo que indica que la búsqueda se centrará únicamente en los metadatos.\n",
    "\n",
    "2. **Filtro por Metadata**:\n",
    "   - Se usa el filtro `where={\"equipo_local\": \"Barcelona\"}` para obtener solo los documentos donde el equipo local sea \"Barcelona\".\n",
    "\n",
    "3. **Resultados**:\n",
    "   - Se obtienen hasta 5 resultados (`n_results=5`), y se incluyen los documentos y metadatos de los partidos filtrados.\n",
    "\n",
    "4. **Impresión de Resultados**:\n",
    "   - Se muestran los partidos encontrados, incluyendo el texto del partido y los metadatos relacionados."
   ]
  },
  {
   "cell_type": "code",
   "execution_count": 34,
   "metadata": {},
   "outputs": [
    {
     "name": "stderr",
     "output_type": "stream",
     "text": [
      "Number of requested results 5 is greater than number of elements in index 3, updating n_results = 3\n"
     ]
    },
    {
     "name": "stdout",
     "output_type": "stream",
     "text": [
      "=== PARTIDOS DEL BARCELONA COMO LOCAL ===\n",
      "\n",
      "Partido 1:\n",
      "Texto: Partido entre Barcelona y Real Madrid en el Camp Nou el 25 de diciembre de 2025, con 70,000 espectadores.\n",
      "Metadata: {'equipo_local': 'Barcelona', 'equipo_visitante': 'Real Madrid', 'estadio': 'Camp Nou', 'fecha': '2025-12-25'}\n"
     ]
    }
   ],
   "source": [
    "\n",
    "resultados_equipo = collection.query(\n",
    "    query_texts=[\"\"], \n",
    "    n_results=5,\n",
    "    where={\"equipo_local\": \"Barcelona\"},\n",
    "    include=[\"documents\", \"metadatas\"]\n",
    ")\n",
    "\n",
    "print(\"=== PARTIDOS DEL BARCELONA COMO LOCAL ===\")\n",
    "for i, (doc, meta) in enumerate(zip(resultados_equipo['documents'][0], resultados_equipo['metadatas'][0])):\n",
    "    print(f\"\\nPartido {i+1}:\")\n",
    "    print(f\"Texto: {doc}\")\n",
    "    print(f\"Metadata: {meta}\")"
   ]
  },
  {
   "cell_type": "markdown",
   "metadata": {},
   "source": [
    "### Búsqueda por Estadio\n",
    "\n",
    "Este código realiza una búsqueda en la colección filtrando por un estadio específico, en este caso, \"Camp Nou\".\n",
    "\n",
    "1. **Consulta Vacía**:\n",
    "   - Se realiza una búsqueda sin texto de consulta (`query_texts=[\"\"]`), centrando la búsqueda exclusivamente en los metadatos.\n",
    "\n",
    "2. **Filtro por Metadata (Estadio)**:\n",
    "   - Se utiliza el filtro `where={\"estadio\": \"Camp Nou\"}` para buscar documentos relacionados con partidos jugados en el \"Camp Nou\".\n",
    "\n",
    "3. **Resultados**:\n",
    "   - Se limitan a los primeros 5 resultados (`n_results=5`), y se incluyen tanto los documentos como los metadatos.\n",
    "\n",
    "4. **Impresión de Resultados**:\n",
    "   - Se muestran los partidos encontrados, incluyendo el texto del partido y los metadatos asociados.\n",
    "\n",
    "Ejemplo de uso:"
   ]
  },
  {
   "cell_type": "code",
   "execution_count": 35,
   "metadata": {},
   "outputs": [
    {
     "name": "stderr",
     "output_type": "stream",
     "text": [
      "Number of requested results 5 is greater than number of elements in index 3, updating n_results = 3\n"
     ]
    },
    {
     "name": "stdout",
     "output_type": "stream",
     "text": [
      "=== PARTIDOS EN EL CAMP NOU ===\n",
      "\n",
      "Partido 1:\n",
      "Texto: Partido entre Barcelona y Real Madrid en el Camp Nou el 25 de diciembre de 2025, con 70,000 espectadores.\n",
      "Metadata: {'equipo_local': 'Barcelona', 'equipo_visitante': 'Real Madrid', 'estadio': 'Camp Nou', 'fecha': '2025-12-25'}\n"
     ]
    }
   ],
   "source": [
    "# Búsqueda por estadio\n",
    "resultados_estadio = collection.query(\n",
    "    query_texts=[\"\"],\n",
    "    n_results=5,\n",
    "    where={\"estadio\": \"Camp Nou\"},\n",
    "    include=[\"documents\", \"metadatas\"]\n",
    ")\n",
    "\n",
    "\n",
    "for i, (doc, meta) in enumerate(zip(resultados_estadio['documents'][0], resultados_estadio['metadatas'][0])):\n",
    "    print(f\"\\nPartido {i+1}:\")\n",
    "    print(f\"Texto: {doc}\")\n",
    "    print(f\"Metadata: {meta}\")\n"
   ]
  },
  {
   "cell_type": "markdown",
   "metadata": {},
   "source": [
    "### Búsqueda por Fecha Específica\n",
    "\n",
    "Este código realiza una búsqueda en la colección filtrando por una fecha específica.\n",
    "\n",
    "1. **Consulta Vacía**:\n",
    "   - Se realiza una búsqueda sin texto de consulta (`query_texts=[\"\"]`), lo que indica que la búsqueda se basa únicamente en los metadatos.\n",
    "\n",
    "2. **Filtro por Fecha**:\n",
    "   - Se utiliza el filtro `where={\"fecha\": \"2025-12-25\"}` para buscar documentos relacionados con partidos ocurridos en la fecha \"2025-12-25\".\n",
    "\n",
    "3. **Resultados**:\n",
    "   - Se limitan a los primeros 5 resultados (`n_results=5`), incluyendo tanto los documentos como los metadatos de los partidos.\n",
    "\n",
    "4. **Impresión de Resultados**:\n",
    "   - Se muestran los partidos encontrados, mostrando el texto del partido y los metadatos asociados."
   ]
  },
  {
   "cell_type": "code",
   "execution_count": 36,
   "metadata": {},
   "outputs": [
    {
     "name": "stderr",
     "output_type": "stream",
     "text": [
      "Number of requested results 5 is greater than number of elements in index 3, updating n_results = 3\n"
     ]
    },
    {
     "name": "stdout",
     "output_type": "stream",
     "text": [
      "=== PARTIDOS EN FECHA ESPECÍFICA ===\n",
      "\n",
      "Partido 1:\n",
      "Texto: Partido entre Barcelona y Real Madrid en el Camp Nou el 25 de diciembre de 2025, con 70,000 espectadores.\n",
      "Metadata: {'equipo_local': 'Barcelona', 'equipo_visitante': 'Real Madrid', 'estadio': 'Camp Nou', 'fecha': '2025-12-25'}\n"
     ]
    }
   ],
   "source": [
    "# Búsqueda por fecha específica\n",
    "resultados_fecha = collection.query(\n",
    "    query_texts=[\"\"],\n",
    "    n_results=5,\n",
    "    where={\"fecha\": \"2025-12-25\"},\n",
    "    include=[\"documents\", \"metadatas\"]\n",
    ")\n",
    "\n",
    "for i, (doc, meta) in enumerate(zip(resultados_fecha['documents'][0], resultados_fecha['metadatas'][0])):\n",
    "    print(f\"\\nPartido {i+1}:\")\n",
    "    print(f\"Texto: {doc}\")\n",
    "    print(f\"Metadata: {meta}\")"
   ]
  },
  {
   "cell_type": "markdown",
   "metadata": {},
   "source": [
    "Este código actualiza los metadatos de un partido específico en la colección.\n",
    "\n",
    "1. **Actualización de Metadata**:\n",
    "   - Se actualizan los metadatos del partido con ID `\"2\"`, incluyendo información como:\n",
    "     - **Equipo Local**: Bucaramanga\n",
    "     - **Equipo Visitante**: Liverpool\n",
    "     - **Fecha**: 2025-01-10\n",
    "     - **Estadio**: Old Trafford\n",
    "     - **Estado del Partido**: Finalizado\n",
    "     - **Resultado**: 2-1\n",
    "\n",
    "2. **Confirmación**:\n",
    "   - Imprime un mensaje confirmando que los metadatos se han actualizado correctamente.\n"
   ]
  },
  {
   "cell_type": "code",
   "execution_count": 37,
   "metadata": {},
   "outputs": [
    {
     "name": "stdout",
     "output_type": "stream",
     "text": [
      "Metadata actualizada usando update\n"
     ]
    }
   ],
   "source": [
    "collection.update(\n",
    "    ids=[\"2\"],\n",
    "    metadatas=[{\n",
    "        \"equipo_local\": \"Bucaramanga\",\n",
    "        \"equipo_visitante\": \"Liverpool\",\n",
    "        \"fecha\": \"2025-01-10\",\n",
    "        \"estadio\": \"Old Trafford\",\n",
    "        \"estado_partido\": \"Finalizado\",\n",
    "        \"resultado\": \"2-1\"\n",
    "    }]\n",
    ")\n",
    "\n",
    "print(\"Metadata actualizada usando update\")"
   ]
  },
  {
   "cell_type": "markdown",
   "metadata": {},
   "source": [
    "### Eliminación de Documento por ID\n",
    "\n",
    "Este código elimina un documento específico de la colección utilizando su ID.\n",
    "\n",
    "1. **Eliminación del Documento**:\n",
    "   - Se elimina el documento con el ID `\"9\"` de la colección.\n",
    "\n",
    "2. **Confirmación**:\n",
    "   - Imprime un mensaje indicando que el documento con ID `\"9\"` ha sido eliminado correctamente.\n"
   ]
  },
  {
   "cell_type": "code",
   "execution_count": 39,
   "metadata": {},
   "outputs": [
    {
     "name": "stderr",
     "output_type": "stream",
     "text": [
      "Delete of nonexisting embedding ID: 9\n",
      "Delete of nonexisting embedding ID: 9\n"
     ]
    },
    {
     "name": "stdout",
     "output_type": "stream",
     "text": [
      "Documento con ID 9 eliminado.\n"
     ]
    }
   ],
   "source": [
    "collection.delete(ids=[\"9\"])\n",
    "print(\"Documento con ID 9 eliminado.\")"
   ]
  }
 ],
 "metadata": {
  "kernelspec": {
   "display_name": "entorno",
   "language": "python",
   "name": "python3"
  },
  "language_info": {
   "codemirror_mode": {
    "name": "ipython",
    "version": 3
   },
   "file_extension": ".py",
   "mimetype": "text/x-python",
   "name": "python",
   "nbconvert_exporter": "python",
   "pygments_lexer": "ipython3",
   "version": "3.10.11"
  }
 },
 "nbformat": 4,
 "nbformat_minor": 2
}
